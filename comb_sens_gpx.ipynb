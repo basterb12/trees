{
 "cells": [
  {
   "cell_type": "code",
   "execution_count": 1,
   "id": "81580b72",
   "metadata": {},
   "outputs": [],
   "source": [
    "#Script takes csv outputs created by \"import_data.py\" for \"Atmotube Pro\" data intercepted by \"nRF Connect\"\n",
    "#bluetooth API. This data was decoded with \"sensor_file_parser.py\".\n",
    "#Then reads gpx data from \"TripLogger\" mobile app and creates combined pandas dataframe for all sensor and gpx data.\n",
    "\n",
    "#Long/lat/elevation data is not available for all \"time\" values, missing data provided using linear \n",
    "#interpolation. Location data is only interpolated for up to 5 values between measured points.\n",
    "#Metereological measurements are taken less frequently by Atmotube Pro - missing data is also interpolated \n",
    "#(up to 10 missing values between measurements, linear).\n",
    "\n",
    "#Final dataframe exported to csv file - one version without (\"sensor_gpx_path\"), \n",
    "#and one with interpolated values (\"interp_sensor_gpx_path\").\n",
    "\n"
   ]
  },
  {
   "cell_type": "code",
   "execution_count": 2,
   "id": "31ea26cd",
   "metadata": {},
   "outputs": [],
   "source": [
    "#imports libraries\n",
    "import json\n",
    "import pandas as pd\n",
    "import gpxpy\n",
    "import gpxpy.gpx\n",
    "from datetime import datetime, timedelta\n",
    "\n"
   ]
  },
  {
   "cell_type": "code",
   "execution_count": 3,
   "id": "2291d80f",
   "metadata": {},
   "outputs": [],
   "source": [
    "#input files\n",
    "sensor_file = '2024-05-24_text-8C89FB67B0A2-1.txt'\n",
    "gpx_file = '2024-05-24_triplogger-track-20240524T205818+0100.gpx'\n",
    "\n",
    "#must specify data path in import.config.json\n",
    "with open(\"import.config.json\", \"r\") as jsonfile:\n",
    "    import_config = json.load(jsonfile)\n",
    "\n",
    "env_data_path = import_config[\"cache_path\"] + sensor_file[:-4] + '_env.csv'\n",
    "meteo_data_path = import_config[\"cache_path\"] + sensor_file[:-4] + '_meteo.csv'\n",
    "gpx_file_path = import_config[\"gpx_path\"] + gpx_file\n",
    "\n",
    "#specify output files\n",
    "sensor_gpx_path = import_config[\"sens_gpx_path\"] + sensor_file[:10] + '_sensor_gpx.csv'\n",
    "interp_sensor_gpx_path = import_config[\"sens_gpx_path\"] + sensor_file[:10] + '_sensor_gpx.csv'\n",
    "\n"
   ]
  },
  {
   "cell_type": "code",
   "execution_count": 4,
   "id": "9ba39f2d",
   "metadata": {},
   "outputs": [],
   "source": [
    "#create pandas dataframes from decoded sensor measurements (created by import_data.py)\n",
    "df_env = pd.read_csv(env_data_path)\n",
    "df_meteo = pd.read_csv(meteo_data_path)\n",
    "\n",
    "df_env['time'] = pd.to_datetime(df_env['time'], format='ISO8601') # converts to datetime format to match gpx data\n",
    "df_meteo['time'] = pd.to_datetime(df_meteo['time'], format='ISO8601')\n",
    "\n",
    "#add env and meteo data into combined pd dataframe\n",
    "df_sens_comb = pd.merge_ordered(df_env, df_meteo, fill_method=\"ffill\", left_by='time')\n",
    "\n"
   ]
  },
  {
   "cell_type": "code",
   "execution_count": 5,
   "id": "f751cda9",
   "metadata": {},
   "outputs": [],
   "source": [
    "#read gpx data\n",
    "with open(gpx_file_path, 'r') as f:\n",
    "    gpx = gpxpy.parse(f)\n",
    "\n",
    "# Convert to a dataframe one point at a time.\n",
    "gpx_points = []\n",
    "for segment in gpx.tracks[0].segments:\n",
    "    for p in segment.points:\n",
    "        gpx_points.append({\n",
    "            'time': p.time,\n",
    "            'latitude': p.latitude,\n",
    "            'longitude': p.longitude,\n",
    "            'elevation': p.elevation,\n",
    "        })\n",
    "df_gpx = pd.DataFrame.from_records(gpx_points)\n",
    "\n",
    "#Remove +00:00 from the end of each timestamp\n",
    "gpx_time_str = df_gpx['time']\n",
    "gpx_time_strip = gpx_time_str.astype(str).str.rstrip('+00:00')\n",
    "df_gpx['time'] = gpx_time_strip\n",
    "df_gpx['time'] = pd.to_datetime(df_gpx['time'], format='ISO8601')\n",
    "df_gpx['time'] = df_gpx['time'] + timedelta(hours=1)\n",
    "\n"
   ]
  },
  {
   "cell_type": "code",
   "execution_count": 6,
   "id": "aa9fa5e5",
   "metadata": {},
   "outputs": [],
   "source": [
    "#add dataframes from sensor and gpx into one file - match the time-steps    \n",
    "df_sens_gpx = pd.merge_ordered(df_sens_comb, df_gpx, fill_method=\"ffill\", left_by='time')\n",
    "\n",
    "df_sens_gpx.to_csv(sensor_gpx_path) #creates csv with only measured points (no interpolation)\n",
    "\n",
    "#interpolate missing lon/lat/elevation data in gpx files\n",
    "lat_gpx = df_sens_gpx['latitude']\n",
    "df_sens_gpx['latitude'] = lat_gpx.interpolate(method='linear', axis=0, limit=5, inplace=False, limit_area='inside')\n",
    "long_gpx = df_sens_gpx['longitude']\n",
    "df_sens_gpx['longitude'] = long_gpx.interpolate(method='linear', axis=0, limit=5, inplace=False, limit_area='inside')\n",
    "ele_gpx = df_sens_gpx['elevation']\n",
    "df_sens_gpx['elevation'] = ele_gpx.interpolate(method='linear', axis=0, limit=5, inplace=False, limit_area='inside')\n",
    "#interpolate missing meteo data\n",
    "temp_meteo = df_sens_gpx['temperature']\n",
    "df_sens_gpx['temperature'] = temp_meteo.interpolate(method='linear', axis=0, limit=10, inplace=False, limit_area='inside')\n",
    "hum_meteo = df_sens_gpx['humidity']\n",
    "df_sens_gpx['humidity'] = hum_meteo.interpolate(method='linear', axis=0, limit=10, inplace=False, limit_area='inside')\n",
    "press_meteo = df_sens_gpx['pressure']\n",
    "df_sens_gpx['pressure'] = press_meteo.interpolate(method='linear', axis=0, limit=10, inplace=False, limit_area='inside')\n",
    "temp2_meteo = df_sens_gpx['temperature2']\n",
    "df_sens_gpx['temperature2'] = temp2_meteo.interpolate(method='linear', axis=0, limit=10, inplace=False, limit_area='inside')\n",
    "\n",
    "\n",
    "df_sens_gpx.to_csv(interp_sensor_gpx_path) #creates csv including interpolated values"
   ]
  },
  {
   "cell_type": "code",
   "execution_count": null,
   "id": "8371dda2",
   "metadata": {},
   "outputs": [],
   "source": []
  }
 ],
 "metadata": {
  "kernelspec": {
   "display_name": "Python 3 (ipykernel)",
   "language": "python",
   "name": "python3"
  },
  "language_info": {
   "codemirror_mode": {
    "name": "ipython",
    "version": 3
   },
   "file_extension": ".py",
   "mimetype": "text/x-python",
   "name": "python",
   "nbconvert_exporter": "python",
   "pygments_lexer": "ipython3",
   "version": "3.11.5"
  }
 },
 "nbformat": 4,
 "nbformat_minor": 5
}
