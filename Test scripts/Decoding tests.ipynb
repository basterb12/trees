{
 "cells": [
  {
   "cell_type": "code",
   "execution_count": 1,
   "id": "098cd136",
   "metadata": {},
   "outputs": [],
   "source": [
    "#testing decoding of data"
   ]
  },
  {
   "cell_type": "code",
   "execution_count": 2,
   "id": "4643de00",
   "metadata": {},
   "outputs": [],
   "source": [
    "import binascii\n",
    "from datetime import datetime\n",
    "import pandas as pd"
   ]
  },
  {
   "cell_type": "code",
   "execution_count": 42,
   "id": "bde7bf2d",
   "metadata": {},
   "outputs": [
    {
     "name": "stdout",
     "output_type": "stream",
     "text": [
      "0    object\n",
      "dtype: object\n",
      "0003AD\n"
     ]
    }
   ],
   "source": [
    "#example values\n",
    "values = pd.DataFrame(['0003AD','1C','0A0A','1E','182E0','0294'],['pm','temp','temp_l','hum','press','voc'])\n",
    "pm = values[0]['pm'] # =941\n",
    "temp = values[0]['temp'] # =28\n",
    "temp_l = values[0]['temp_l'] # =2570\n",
    "hum = values[0]['hum'] # =30\n",
    "press = values[0]['press'] # =99040\n",
    "voc = values[0]['voc'] # =660\n",
    "\n",
    "print(values.dtypes)\n",
    "print(pm)"
   ]
  },
  {
   "cell_type": "code",
   "execution_count": 59,
   "id": "d8d387fd",
   "metadata": {},
   "outputs": [
    {
     "name": "stdout",
     "output_type": "stream",
     "text": [
      "11338496\n"
     ]
    }
   ],
   "source": [
    "res0 = int.from_bytes(bytes.fromhex(pm), byteorder=\"little\")\n",
    "print(res0)"
   ]
  },
  {
   "cell_type": "code",
   "execution_count": 68,
   "id": "f0b1d9ca",
   "metadata": {},
   "outputs": [
    {
     "name": "stdout",
     "output_type": "stream",
     "text": [
      "37890\n"
     ]
    }
   ],
   "source": [
    "def byteToInt(x: str) -> int:\n",
    "        return int.from_bytes(binascii.unhexlify(x), byteorder='little')\n",
    "\n",
    "res1 = byteToInt(voc)\n",
    "print(res1)"
   ]
  },
  {
   "cell_type": "code",
   "execution_count": 47,
   "id": "f06ea30d",
   "metadata": {},
   "outputs": [
    {
     "ename": "TypeError",
     "evalue": "unsupported operand type(s) for &: 'str' and 'int'",
     "output_type": "error",
     "traceback": [
      "\u001b[0;31m---------------------------------------------------------------------------\u001b[0m",
      "\u001b[0;31mTypeError\u001b[0m                                 Traceback (most recent call last)",
      "Cell \u001b[0;32mIn[47], line 6\u001b[0m\n\u001b[1;32m      3\u001b[0m \u001b[38;5;28;01mdef\u001b[39;00m \u001b[38;5;21mdecode16BitQ7\u001b[39m(x):\n\u001b[1;32m      4\u001b[0m         \u001b[38;5;28;01mreturn\u001b[39;00m (x \u001b[38;5;241m-\u001b[39m \u001b[38;5;241m0x10000\u001b[39m \u001b[38;5;28;01mif\u001b[39;00m (x \u001b[38;5;241m&\u001b[39m \u001b[38;5;241m0x8000\u001b[39m) \u001b[38;5;28;01melse\u001b[39;00m x) \u001b[38;5;241m*\u001b[39m \u001b[38;5;241m0.0078125\u001b[39m\n\u001b[0;32m----> 6\u001b[0m res2 \u001b[38;5;241m=\u001b[39m decode16BitQ7(pm)\n\u001b[1;32m      7\u001b[0m \u001b[38;5;28mprint\u001b[39m(res2)\n",
      "Cell \u001b[0;32mIn[47], line 4\u001b[0m, in \u001b[0;36mdecode16BitQ7\u001b[0;34m(x)\u001b[0m\n\u001b[1;32m      3\u001b[0m \u001b[38;5;28;01mdef\u001b[39;00m \u001b[38;5;21mdecode16BitQ7\u001b[39m(x):\n\u001b[0;32m----> 4\u001b[0m         \u001b[38;5;28;01mreturn\u001b[39;00m (x \u001b[38;5;241m-\u001b[39m \u001b[38;5;241m0x10000\u001b[39m \u001b[38;5;28;01mif\u001b[39;00m (x \u001b[38;5;241m&\u001b[39m \u001b[38;5;241m0x8000\u001b[39m) \u001b[38;5;28;01melse\u001b[39;00m x) \u001b[38;5;241m*\u001b[39m \u001b[38;5;241m0.0078125\u001b[39m\n",
      "\u001b[0;31mTypeError\u001b[0m: unsupported operand type(s) for &: 'str' and 'int'"
     ]
    }
   ],
   "source": [
    "#This is the standard encoding for temerature data in 16 bit (Q7) but somehow result is different -> not used\n",
    "\n",
    "def decode16BitQ7(x):\n",
    "        return (x - 0x10000 if (x & 0x8000) else x) * 0.0078125\n",
    "\n",
    "res2 = decode16BitQ7(pm)\n",
    "print(res2)"
   ]
  },
  {
   "cell_type": "code",
   "execution_count": 39,
   "id": "0f5fa1f1",
   "metadata": {},
   "outputs": [
    {
     "ename": "TypeError",
     "evalue": "unsupported operand type(s) for &: 'str' and 'int'",
     "output_type": "error",
     "traceback": [
      "\u001b[0;31m---------------------------------------------------------------------------\u001b[0m",
      "\u001b[0;31mTypeError\u001b[0m                                 Traceback (most recent call last)",
      "Cell \u001b[0;32mIn[39], line 6\u001b[0m\n\u001b[1;32m      3\u001b[0m \u001b[38;5;28;01mdef\u001b[39;00m \u001b[38;5;21mdecode12BitQ4\u001b[39m(selfself, x):\n\u001b[1;32m      4\u001b[0m     \u001b[38;5;28;01mreturn\u001b[39;00m ((x \u001b[38;5;241m-\u001b[39m \u001b[38;5;241m0x10000\u001b[39m \u001b[38;5;28;01mif\u001b[39;00m (x \u001b[38;5;241m&\u001b[39m \u001b[38;5;241m0x8000\u001b[39m) \u001b[38;5;28;01melse\u001b[39;00m x) \u001b[38;5;241m>>\u001b[39m \u001b[38;5;241m4\u001b[39m) \u001b[38;5;241m*\u001b[39m \u001b[38;5;241m0.0625\u001b[39m\n\u001b[0;32m----> 6\u001b[0m res3 \u001b[38;5;241m=\u001b[39m decode12BitQ4(pm, x)\n\u001b[1;32m      7\u001b[0m \u001b[38;5;28mprint\u001b[39m(res3)\n",
      "Cell \u001b[0;32mIn[39], line 4\u001b[0m, in \u001b[0;36mdecode12BitQ4\u001b[0;34m(selfself, x)\u001b[0m\n\u001b[1;32m      3\u001b[0m \u001b[38;5;28;01mdef\u001b[39;00m \u001b[38;5;21mdecode12BitQ4\u001b[39m(selfself, x):\n\u001b[0;32m----> 4\u001b[0m     \u001b[38;5;28;01mreturn\u001b[39;00m ((x \u001b[38;5;241m-\u001b[39m \u001b[38;5;241m0x10000\u001b[39m \u001b[38;5;28;01mif\u001b[39;00m (x \u001b[38;5;241m&\u001b[39m \u001b[38;5;241m0x8000\u001b[39m) \u001b[38;5;28;01melse\u001b[39;00m x) \u001b[38;5;241m>>\u001b[39m \u001b[38;5;241m4\u001b[39m) \u001b[38;5;241m*\u001b[39m \u001b[38;5;241m0.0625\u001b[39m\n",
      "\u001b[0;31mTypeError\u001b[0m: unsupported operand type(s) for &: 'str' and 'int'"
     ]
    }
   ],
   "source": [
    "#variant for 12 bit but also not the right one\n",
    "\n",
    "def decode12BitQ4(selfself, x):\n",
    "    return ((x - 0x10000 if (x & 0x8000) else x) >> 4) * 0.0625\n",
    "\n",
    "res3 = decode12BitQ4(pm, x)\n",
    "print(res3)"
   ]
  },
  {
   "cell_type": "code",
   "execution_count": 25,
   "id": "9655003d",
   "metadata": {},
   "outputs": [
    {
     "data": {
      "text/plain": [
       "str"
      ]
     },
     "execution_count": 25,
     "metadata": {},
     "output_type": "execute_result"
    }
   ],
   "source": [
    "type(pm)"
   ]
  },
  {
   "cell_type": "code",
   "execution_count": null,
   "id": "f000008c",
   "metadata": {},
   "outputs": [],
   "source": []
  }
 ],
 "metadata": {
  "kernelspec": {
   "display_name": "Python 3 (ipykernel)",
   "language": "python",
   "name": "python3"
  },
  "language_info": {
   "codemirror_mode": {
    "name": "ipython",
    "version": 3
   },
   "file_extension": ".py",
   "mimetype": "text/x-python",
   "name": "python",
   "nbconvert_exporter": "python",
   "pygments_lexer": "ipython3",
   "version": "3.11.5"
  }
 },
 "nbformat": 4,
 "nbformat_minor": 5
}
